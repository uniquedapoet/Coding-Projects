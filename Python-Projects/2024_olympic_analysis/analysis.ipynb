{
 "cells": [
  {
   "cell_type": "code",
   "execution_count": 9,
   "metadata": {},
   "outputs": [
    {
     "name": "stdout",
     "output_type": "stream",
     "text": [
      "<class 'pandas.core.frame.DataFrame'>\n",
      "RangeIndex: 12 entries, 0 to 11\n",
      "Data columns (total 16 columns):\n",
      " #   Column                          Non-Null Count  Dtype  \n",
      "---  ------                          --------------  -----  \n",
      " 0   Team                            12 non-null     object \n",
      " 1   Player                          12 non-null     object \n",
      " 2   Field Goals Made (FGM)          12 non-null     float64\n",
      " 3   Field Goals Attempted (FGA)     12 non-null     float64\n",
      " 4   Free Throws Made (FTM)          12 non-null     float64\n",
      " 5   Free Throws Attempted (FTA)     12 non-null     float64\n",
      " 6   Three-Pointers Made (3PM)       12 non-null     float64\n",
      " 7   Three-Pointers Attempted (3PA)  12 non-null     float64\n",
      " 8   Offensive Rebounds (ORB)        12 non-null     float64\n",
      " 9   Defensive Rebounds (DRB)        12 non-null     float64\n",
      " 10  Assists (AST)                   12 non-null     float64\n",
      " 11  Steals (STL)                    12 non-null     float64\n",
      " 12  Blocks (BLK)                    12 non-null     float64\n",
      " 13  Turnovers (TO)                  12 non-null     float64\n",
      " 14  Personal Fouls (PF)             12 non-null     float64\n",
      " 15  Minutes Played (MIN)            12 non-null     float64\n",
      "dtypes: float64(14), object(2)\n",
      "memory usage: 1.6+ KB\n"
     ]
    }
   ],
   "source": [
    "import pandas as pd\n",
    "import pprint as p\n",
    "olympics_csv = pd.read_csv(\"data/team_usa_stats.csv\")\n",
    "olympics_csv.info()\n"
   ]
  },
  {
   "cell_type": "code",
   "execution_count": null,
   "metadata": {},
   "outputs": [],
   "source": []
  }
 ],
 "metadata": {
  "kernelspec": {
   "display_name": "base",
   "language": "python",
   "name": "python3"
  },
  "language_info": {
   "codemirror_mode": {
    "name": "ipython",
    "version": 3
   },
   "file_extension": ".py",
   "mimetype": "text/x-python",
   "name": "python",
   "nbconvert_exporter": "python",
   "pygments_lexer": "ipython3",
   "version": "3.11.5"
  }
 },
 "nbformat": 4,
 "nbformat_minor": 2
}
